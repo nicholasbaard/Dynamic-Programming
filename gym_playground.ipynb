{
 "cells": [
  {
   "cell_type": "code",
   "execution_count": 17,
   "metadata": {},
   "outputs": [],
   "source": [
    "# pip install gymnasium\n",
    "# pip install gymnasium[toy-text]\n",
    "import gymnasium as gym\n",
    "import pprint\n",
    "pp = pprint.PrettyPrinter(indent=4)"
   ]
  },
  {
   "cell_type": "code",
   "execution_count": 34,
   "metadata": {},
   "outputs": [],
   "source": [
    "env = gym.make('FrozenLake-v1', desc=None, map_name=\"4x4\", is_slippery=False, render_mode=\"human\")\n"
   ]
  },
  {
   "cell_type": "code",
   "execution_count": 35,
   "metadata": {},
   "outputs": [
    {
     "name": "stdout",
     "output_type": "stream",
     "text": [
      "Discrete(4)\n",
      "Discrete(16)\n",
      "(0, 1)\n",
      "EnvSpec(id='FrozenLake-v1',\n",
      "        entry_point='gymnasium.envs.toy_text.frozen_lake:FrozenLakeEnv',\n",
      "        reward_threshold=0.7,\n",
      "        nondeterministic=False,\n",
      "        max_episode_steps=100,\n",
      "        order_enforce=True,\n",
      "        autoreset=False,\n",
      "        disable_env_checker=False,\n",
      "        apply_api_compatibility=False,\n",
      "        kwargs={   'desc': None,\n",
      "                   'is_slippery': False,\n",
      "                   'map_name': '4x4',\n",
      "                   'render_mode': 'human'},\n",
      "        namespace=None,\n",
      "        name='FrozenLake',\n",
      "        version=1,\n",
      "        additional_wrappers=(),\n",
      "        vector_entry_point=None)\n",
      "{'render_fps': 4, 'render_modes': ['human', 'ansi', 'rgb_array']}\n",
      "Generator(PCG64)\n"
     ]
    }
   ],
   "source": [
    "print(env.action_space)\n",
    "print(env.observation_space)\n",
    "print(env.reward_range)\n",
    "pp.pprint(env.spec)\n",
    "pp.pprint(env.metadata)\n",
    "print(env.np_random)"
   ]
  },
  {
   "cell_type": "code",
   "execution_count": 36,
   "metadata": {},
   "outputs": [
    {
     "name": "stdout",
     "output_type": "stream",
     "text": [
      "{   0: {   0: [(1.0, 0, 0.0, False)],\n",
      "           1: [(1.0, 4, 0.0, False)],\n",
      "           2: [(1.0, 1, 0.0, False)],\n",
      "           3: [(1.0, 0, 0.0, False)]},\n",
      "    1: {   0: [(1.0, 0, 0.0, False)],\n",
      "           1: [(1.0, 5, 0.0, True)],\n",
      "           2: [(1.0, 2, 0.0, False)],\n",
      "           3: [(1.0, 1, 0.0, False)]},\n",
      "    2: {   0: [(1.0, 1, 0.0, False)],\n",
      "           1: [(1.0, 6, 0.0, False)],\n",
      "           2: [(1.0, 3, 0.0, False)],\n",
      "           3: [(1.0, 2, 0.0, False)]},\n",
      "    3: {   0: [(1.0, 2, 0.0, False)],\n",
      "           1: [(1.0, 7, 0.0, True)],\n",
      "           2: [(1.0, 3, 0.0, False)],\n",
      "           3: [(1.0, 3, 0.0, False)]},\n",
      "    4: {   0: [(1.0, 4, 0.0, False)],\n",
      "           1: [(1.0, 8, 0.0, False)],\n",
      "           2: [(1.0, 5, 0.0, True)],\n",
      "           3: [(1.0, 0, 0.0, False)]},\n",
      "    5: {   0: [(1.0, 5, 0, True)],\n",
      "           1: [(1.0, 5, 0, True)],\n",
      "           2: [(1.0, 5, 0, True)],\n",
      "           3: [(1.0, 5, 0, True)]},\n",
      "    6: {   0: [(1.0, 5, 0.0, True)],\n",
      "           1: [(1.0, 10, 0.0, False)],\n",
      "           2: [(1.0, 7, 0.0, True)],\n",
      "           3: [(1.0, 2, 0.0, False)]},\n",
      "    7: {   0: [(1.0, 7, 0, True)],\n",
      "           1: [(1.0, 7, 0, True)],\n",
      "           2: [(1.0, 7, 0, True)],\n",
      "           3: [(1.0, 7, 0, True)]},\n",
      "    8: {   0: [(1.0, 8, 0.0, False)],\n",
      "           1: [(1.0, 12, 0.0, True)],\n",
      "           2: [(1.0, 9, 0.0, False)],\n",
      "           3: [(1.0, 4, 0.0, False)]},\n",
      "    9: {   0: [(1.0, 8, 0.0, False)],\n",
      "           1: [(1.0, 13, 0.0, False)],\n",
      "           2: [(1.0, 10, 0.0, False)],\n",
      "           3: [(1.0, 5, 0.0, True)]},\n",
      "    10: {   0: [(1.0, 9, 0.0, False)],\n",
      "            1: [(1.0, 14, 0.0, False)],\n",
      "            2: [(1.0, 11, 0.0, True)],\n",
      "            3: [(1.0, 6, 0.0, False)]},\n",
      "    11: {   0: [(1.0, 11, 0, True)],\n",
      "            1: [(1.0, 11, 0, True)],\n",
      "            2: [(1.0, 11, 0, True)],\n",
      "            3: [(1.0, 11, 0, True)]},\n",
      "    12: {   0: [(1.0, 12, 0, True)],\n",
      "            1: [(1.0, 12, 0, True)],\n",
      "            2: [(1.0, 12, 0, True)],\n",
      "            3: [(1.0, 12, 0, True)]},\n",
      "    13: {   0: [(1.0, 12, 0.0, True)],\n",
      "            1: [(1.0, 13, 0.0, False)],\n",
      "            2: [(1.0, 14, 0.0, False)],\n",
      "            3: [(1.0, 9, 0.0, False)]},\n",
      "    14: {   0: [(1.0, 13, 0.0, False)],\n",
      "            1: [(1.0, 14, 0.0, False)],\n",
      "            2: [(1.0, 15, 1.0, True)],\n",
      "            3: [(1.0, 10, 0.0, False)]},\n",
      "    15: {   0: [(1.0, 15, 0, True)],\n",
      "            1: [(1.0, 15, 0, True)],\n",
      "            2: [(1.0, 15, 0, True)],\n",
      "            3: [(1.0, 15, 0, True)]}}\n"
     ]
    },
    {
     "name": "stderr",
     "output_type": "stream",
     "text": [
      "/home/nic/Desktop/university/Postgrad/2nd Semester/RL/Labs/Dynamic-Programming/.venv/lib/python3.10/site-packages/gymnasium/core.py:311: UserWarning: \u001b[33mWARN: env.P to get variables from other wrappers is deprecated and will be removed in v1.0, to get this variable you can do `env.unwrapped.P` for environment variables or `env.get_wrapper_attr('P')` that will search the reminding wrappers.\u001b[0m\n",
      "  logger.warn(\n"
     ]
    }
   ],
   "source": [
    "pp.pprint(env.P)\n",
    "# {\n",
    "#     state1: {\n",
    "#         action1: [(transition_prob, next_state, reward, done)],\n",
    "#         action2: [(transition_prob, next_state, reward, done)],\n",
    "#         action3: [(transition_prob, next_state, reward, done)],\n",
    "#         action4: [(transition_prob, next_state, reward, done)],\n",
    "#     },\n",
    "#     state2: {\n",
    "#         action1: [(transition_prob, next_state, reward, done)],\n",
    "#         ...\n",
    "#     }\n",
    "#     ...\n",
    "# }"
   ]
  },
  {
   "cell_type": "code",
   "execution_count": 27,
   "metadata": {},
   "outputs": [],
   "source": [
    "observation, info = env.reset()\n",
    "\n",
    "for _ in range(10):\n",
    "    env.render()\n",
    "    action = env.action_space.sample()  # agent policy that uses the observation and info\n",
    "    observation, reward, terminated, truncated, info = env.step(action)\n",
    "\n",
    "    if terminated or truncated:\n",
    "        observation, info = env.reset()\n",
    "\n",
    "env.close()"
   ]
  },
  {
   "cell_type": "code",
   "execution_count": 28,
   "metadata": {},
   "outputs": [],
   "source": [
    "env.close()"
   ]
  },
  {
   "cell_type": "code",
   "execution_count": 39,
   "metadata": {},
   "outputs": [
    {
     "data": {
      "text/plain": [
       "<OrderEnforcing<PassiveEnvChecker<FrozenLakeEnv<FrozenLake-v1>>>>"
      ]
     },
     "execution_count": 39,
     "metadata": {},
     "output_type": "execute_result"
    }
   ],
   "source": [
    "env."
   ]
  },
  {
   "cell_type": "code",
   "execution_count": null,
   "metadata": {},
   "outputs": [],
   "source": []
  }
 ],
 "metadata": {
  "kernelspec": {
   "display_name": ".venv",
   "language": "python",
   "name": "python3"
  },
  "language_info": {
   "codemirror_mode": {
    "name": "ipython",
    "version": 3
   },
   "file_extension": ".py",
   "mimetype": "text/x-python",
   "name": "python",
   "nbconvert_exporter": "python",
   "pygments_lexer": "ipython3",
   "version": "3.10.12"
  }
 },
 "nbformat": 4,
 "nbformat_minor": 2
}
