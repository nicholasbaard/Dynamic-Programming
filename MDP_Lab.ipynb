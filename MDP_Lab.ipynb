{
 "cells": [
  {
   "cell_type": "markdown",
   "id": "938d5e08",
   "metadata": {},
   "source": [
    "## MDP Lab\n",
    "Michael Vogt - 1533057 <br>\n",
    "Nicholas Baard - 1387558"
   ]
  },
  {
   "cell_type": "code",
   "execution_count": 1,
   "id": "f6782854",
   "metadata": {},
   "outputs": [],
   "source": [
    "import numpy as np\n",
    "import matplotlib.pyplot as plt"
   ]
  },
  {
   "cell_type": "code",
   "execution_count": 2,
   "id": "7c6d8c68",
   "metadata": {},
   "outputs": [
    {
     "name": "stdout",
     "output_type": "stream",
     "text": [
      "[[20.  0.  0.  0.  0.  0.  0.]\n",
      " [ 0.  0.  0.  0.  0.  0.  0.]\n",
      " [-1. -1. -1. -1. -1. -1.  0.]\n",
      " [ 0.  0.  0.  0.  0.  0.  0.]\n",
      " [ 0.  0.  0.  0.  0.  0.  0.]\n",
      " [ 0.  0.  0.  0.  0.  0.  0.]\n",
      " [ 0.  0.  0.  0.  0.  0.  0.]]\n",
      "x:  6\n",
      "y:  0\n"
     ]
    }
   ],
   "source": [
    "class Environment():\n",
    "    def __init__(self, length, height):\n",
    "        self.length = length\n",
    "        self.height = height\n",
    "        self.world = np.zeros(self.length*self.height).reshape(self.length, self.height)\n",
    "        #self.world[2,:-1] = -1\n",
    "        #self.world[self.height-1,0] = 5\n",
    "        self.current_state = np.array([self.height-1,0])\n",
    "        self.goal = 20\n",
    "        self.world[0,0] = self.goal\n",
    "        self.steps = 0\n",
    "        self.val_array = np.array([[20,19,18,17,16,15,14],\n",
    "                                  [19,18,17,16,15,14,13],\n",
    "                                  [-10,-10,-10,-10,-10,-10,12],\n",
    "                                  [5,6,7,8,9,10,11],\n",
    "                                  [4,5,6,7,8,9,10],\n",
    "                                  [3,4,5,6,7,8,9],\n",
    "                                  [2,3,4,5,6,7,8]])\n",
    "        \n",
    "        \n",
    "    def reset_env(self):\n",
    "        self.current_state = np.array([self.height-1,0])\n",
    "        self.steps = 0\n",
    "        \n",
    "    def reward(self):\n",
    "        if np.array_equal(self.current_state, [0,0]):\n",
    "            return 20\n",
    "        else:\n",
    "            return -1\n",
    "        \n",
    "    def next_state(self, state, action):\n",
    "        #actions: 0 - left, 1 - up, 2 - right, 3 - down\n",
    "        next_state = np.copy(state)\n",
    "        # LEFT\n",
    "        if action == 0:\n",
    "            if state[1] != 0:\n",
    "                next_state[1] -= 1\n",
    "        # RIGHT\n",
    "        if action == 2:\n",
    "            if state[1] != self.length-1:\n",
    "                next_state[1] += 1\n",
    "        # UP\n",
    "        if action == 1:\n",
    "            if state[0] != 0:\n",
    "                next_state[0] -= 1\n",
    "        # DOWN\n",
    "        if action == 3:\n",
    "            if state[0] != self.height-1:\n",
    "                next_state[0] += 1\n",
    "        # AVOID WALL\n",
    "        if next_state[0] == 2 and next_state[1] != self.length-1:\n",
    "            next_state = state\n",
    "        return next_state\n",
    "    \n",
    "    def print_env(self):\n",
    "        image = np.zeros(self.length*self.height).reshape(self.length, self.height)\n",
    "        image[2,:-1] = -50\n",
    "        image[0,0] = 20\n",
    "        image[self.current_state[0], self.current_state[1]] = 10\n",
    "        plt.imshow(image, cmap='inferno')\n",
    "        plt.axis('off')\n",
    "        plt.show()\n",
    "        \n",
    "    def print_step(self, set_of_states, title):\n",
    "        image = np.zeros(self.length*self.height).reshape(self.length, self.height)\n",
    "        image[2,:-1] = -50\n",
    "        image[0,0] = 20\n",
    "        image[6, 0] = 10\n",
    "        for i, j in set_of_states:\n",
    "            image[i, j] = 5\n",
    "        plt.imshow(image, cmap='inferno')\n",
    "        plt.title(str(title))\n",
    "        plt.axis('off')\n",
    "        plt.show()\n",
    "        \n",
    "    def get_world(self):\n",
    "        image = np.zeros(self.length*self.height).reshape(self.length, self.height)\n",
    "        image[2,:-1] = -50\n",
    "        image[0,0] = 20\n",
    "        image[self.current_state[0], self.current_state[1]] = 10\n",
    "        return image\n",
    "        #plt.imshow(image, cmap='inferno')\n",
    "        #plt.axis('off')\n",
    "        #plt.show()\n",
    "        \n",
    "    def is_terminal(self):\n",
    "        if np.array_equal(self.current_state, [0,0]) or self.steps >= 50:\n",
    "            return True\n",
    "        else:\n",
    "            return False\n",
    "        \n",
    "    def select_action(self, action):\n",
    "        self.steps += 1\n",
    "        self.current_state = self.next_state(self.current_state,action)\n",
    "        return self.reward(), self.current_state, self.is_terminal()\n",
    "        \n",
    "        \n",
    "            \n",
    "        \n",
    "    \n",
    "env = Environment(7,7)\n",
    "print(env.world)\n",
    "x,y = env.current_state\n",
    "print('x: ',x)\n",
    "print('y: ',y)"
   ]
  },
  {
   "cell_type": "code",
   "execution_count": 3,
   "id": "48767f57",
   "metadata": {},
   "outputs": [
    {
     "name": "stdout",
     "output_type": "stream",
     "text": [
      "-1\n",
      "[6 0]\n",
      "False\n",
      "1\n"
     ]
    },
    {
     "data": {
      "image/png": "[encoded data removed]",
      "text/plain": [
       "<Figure size 432x288 with 1 Axes>"
      ]
     },
     "metadata": {
      "needs_background": "light"
     },
     "output_type": "display_data"
    },
    {
     "name": "stdout",
     "output_type": "stream",
     "text": [
      "[[ 20  19  18  17  16  15  14]\n",
      " [ 19  18  17  16  15  14  13]\n",
      " [-10 -10 -10 -10 -10 -10  12]\n",
      " [  5   6   7   8   9  10  11]\n",
      " [  4   5   6   7   8   9  10]\n",
      " [  3   4   5   6   7   8   9]\n",
      " [  2   3   4   5   6   7   8]]\n"
     ]
    }
   ],
   "source": [
    "reward, state, done = env.select_action(0)\n",
    "print(reward)\n",
    "print(state)\n",
    "print(done)\n",
    "print(env.steps)\n",
    "env.print_env()\n",
    "print(env.val_array)"
   ]
  },
  {
   "cell_type": "code",
   "execution_count": 4,
   "id": "a00dbfb2",
   "metadata": {},
   "outputs": [],
   "source": [
    "env.reset_env()"
   ]
  },
  {
   "cell_type": "code",
   "execution_count": 5,
   "id": "a63159c2",
   "metadata": {},
   "outputs": [],
   "source": [
    "total_reward = []\n",
    "for i in range(20):\n",
    "    env.reset_env()\n",
    "    done = False\n",
    "    ep_reward = 0\n",
    "    set_of_states_rand = []\n",
    "    \n",
    "    while not done:\n",
    "        action = np.random.randint(4)\n",
    "        #print('action: ', action)\n",
    "        reward, state, done = env.select_action(action)\n",
    "        set_of_states_rand.append(state)\n",
    "        ep_reward += reward\n",
    "        #env.print_env()\n",
    "        #print(state)\n",
    "        #print(reward)\n",
    "        #print('---------------------')\n",
    "        \n",
    "    total_reward.append(ep_reward)\n",
    "\n",
    "#print(total_reward)"
   ]
  },
  {
   "cell_type": "code",
   "execution_count": 6,
   "id": "131da4cb",
   "metadata": {},
   "outputs": [],
   "source": [
    "total_reward_greedy = []\n",
    "for i in range(20):\n",
    "    env.reset_env()\n",
    "    done = False\n",
    "    ep_reward = 0\n",
    "    set_of_states = []\n",
    "    \n",
    "    while not done:\n",
    "        val_choices  = []\n",
    "        for i in range(4):\n",
    "            state = env.next_state(env.current_state, i)\n",
    "            val_choices.append(env.val_array[state[0]][state[1]])\n",
    "        #print(val_choices)\n",
    "        action = np.argmax(val_choices)\n",
    "        #print(action)\n",
    "        val_choices = []\n",
    "        #print('action: ', action)\n",
    "        reward, state, done = env.select_action(action)\n",
    "        set_of_states.append(state)\n",
    "        ep_reward += reward\n",
    "        #env.print_env()\n",
    "        #print(state)\n",
    "        #print(reward)\n",
    "        #print('---------------------')\n",
    "        \n",
    "    total_reward_greedy.append(ep_reward)\n",
    "\n",
    "#print(total_reward_greedy)"
   ]
  },
  {
   "cell_type": "code",
   "execution_count": 7,
   "id": "c08e3d64",
   "metadata": {},
   "outputs": [
    {
     "data": {
      "image/png": "[encoded data removed]",
      "text/plain": [
       "<Figure size 432x288 with 1 Axes>"
      ]
     },
     "metadata": {
      "needs_background": "light"
     },
     "output_type": "display_data"
    },
    {
     "data": {
      "image/png": "[encoded data removed]",
      "text/plain": [
       "<Figure size 432x288 with 1 Axes>"
      ]
     },
     "metadata": {
      "needs_background": "light"
     },
     "output_type": "display_data"
    }
   ],
   "source": [
    "env.print_step(set_of_states, 'Greedy Agent Trajectory')\n",
    "env.print_step(set_of_states_rand, 'Random Agent Trajectory')"
   ]
  },
  {
   "cell_type": "code",
   "execution_count": 9,
   "id": "dc4b4f94",
   "metadata": {},
   "outputs": [
    {
     "data": {
      "image/png": "[encoded data removed]",
      "text/plain": [
       "<Figure size 432x288 with 1 Axes>"
      ]
     },
     "metadata": {
      "needs_background": "light"
     },
     "output_type": "display_data"
    }
   ],
   "source": [
    "plt.bar('Random', sum(total_reward)/20)\n",
    "plt.bar('Greedy', sum(total_reward_greedy)/20)\n",
    "plt.title(\"Bar Graph of Average Mean over 20 Episodes\")\n",
    "plt.show()"
   ]
  },
  {
   "cell_type": "code",
   "execution_count": null,
   "id": "eb50c1df",
   "metadata": {},
   "outputs": [],
   "source": []
  }
 ],
 "metadata": {
  "kernelspec": {
   "display_name": "Python 3",
   "language": "python",
   "name": "python3"
  },
  "language_info": {
   "codemirror_mode": {
    "name": "ipython",
    "version": 3
   },
   "file_extension": ".py",
   "mimetype": "text/x-python",
   "name": "python",
   "nbconvert_exporter": "python",
   "pygments_lexer": "ipython3",
   "version": "3.8.8"
  }
 },
 "nbformat": 4,
 "nbformat_minor": 5
}
